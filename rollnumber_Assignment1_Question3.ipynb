{
 "cells": [
  {
   "cell_type": "markdown",
   "id": "02c54141",
   "metadata": {},
   "source": [
    "## Spam Email Classifier with KNN using TF-IDF scores"
   ]
  },
  {
   "cell_type": "markdown",
   "id": "1c17102e",
   "metadata": {},
   "source": [
    "1.   Assignment must be implemented in Python 3 only.\n",
    "2.   You are allowed to use libraries for data preprocessing (numpy, pandas, nltk etc) and for evaluation metrics, data visualization (matplotlib etc.).\n",
    "3.   You will be evaluated not just on the overall performance of the model and also on the experimentation with hyper parameters, data prepossessing techniques etc.\n",
    "4.   The report file must be a well documented jupyter notebook, explaining the experiments you have performed, evaluation metrics and corresponding code. The code must run and be able to reproduce the accuracies, figures/graphs etc.\n",
    "5.   For all the questions, you must create a train-validation data split and test the hyperparameter tuning on the validation set. Your jupyter notebook must reflect the same.\n",
    "6.   Strict plagiarism checking will be done. An F will be awarded for plagiarism."
   ]
  },
  {
   "cell_type": "markdown",
   "id": "0d34a310",
   "metadata": {},
   "source": [
    "**Task: Given an email, classify it as spam or ham**\n",
    "\n",
    "Given input text file (\"emails.txt\") containing 5572 email messages, with each row having its corresponding label (spam/ham) attached to it.\n",
    "\n",
    "This task also requires basic pre-processing of text (like removing stopwords, stemming/lemmatizing, replacing email_address with 'email-tag', etc..).\n",
    "\n",
    "You are required to find the tf-idf scores for the given data and use them to perform KNN using Cosine Similarity."
   ]
  },
  {
   "cell_type": "markdown",
   "id": "b0c87696",
   "metadata": {},
   "source": [
    "### Import necessary libraries"
   ]
  },
  {
   "cell_type": "code",
   "execution_count": 1,
   "id": "3d5a1fe2",
   "metadata": {},
   "outputs": [],
   "source": [
    "import nltk\n",
    "from nltk.corpus import stopwords\n",
    "from nltk.stem.wordnet import WordNetLemmatizer\n",
    "import re\n",
    "import numpy as np\n",
    "import math\n",
    "from sklearn.model_selection import train_test_split\n",
    "from matplotlib import pyplot as plt\n",
    "from sklearn.neighbors import NearestNeighbors"
   ]
  },
  {
   "cell_type": "markdown",
   "id": "7aef4dff",
   "metadata": {},
   "source": [
    "### Load dataset"
   ]
  },
  {
   "cell_type": "code",
   "execution_count": 2,
   "id": "f178f892",
   "metadata": {},
   "outputs": [],
   "source": [
    "with open('emails.txt', 'r') as inFile:\n",
    "    email_data = inFile.readlines()"
   ]
  },
  {
   "cell_type": "code",
   "execution_count": 3,
   "id": "6e3ca433",
   "metadata": {},
   "outputs": [],
   "source": [
    "test_train_ratio = 0.2"
   ]
  },
  {
   "cell_type": "markdown",
   "id": "cd1ef5ba",
   "metadata": {},
   "source": [
    "### Preprocess data"
   ]
  },
  {
   "cell_type": "code",
   "execution_count": 4,
   "id": "2613dfb6",
   "metadata": {},
   "outputs": [],
   "source": [
    "word_list = list()\n",
    "is_spam = list()\n",
    "stopwords = set(stopwords.words('english'))\n",
    "lemmatizer = WordNetLemmatizer()\n",
    "vocabulary = dict()"
   ]
  },
  {
   "cell_type": "code",
   "execution_count": 5,
   "id": "fd1733d7",
   "metadata": {},
   "outputs": [],
   "source": [
    "for i, email in enumerate(email_data):\n",
    "    email_data[i] = re.sub(r\"[^a-zA-Z0-9]\", \" \", email.lower())\n",
    "    word_list.append(email_data[i].split())\n",
    "    if word_list[i][0] == 'spam':\n",
    "        is_spam.append(True)\n",
    "    else:\n",
    "        is_spam.append(False)\n",
    "    word_list[i].pop(0)"
   ]
  },
  {
   "cell_type": "code",
   "execution_count": 6,
   "id": "faeb2166",
   "metadata": {},
   "outputs": [],
   "source": [
    "cnt = 0\n",
    "for i, email in enumerate(word_list):\n",
    "    temp_sentence = list()\n",
    "    for word in word_list[i]:\n",
    "        if word not in stopwords:\n",
    "            temp_word = lemmatizer.lemmatize(word)\n",
    "            temp_sentence.append(temp_word)\n",
    "            if temp_word not in vocabulary:\n",
    "                vocabulary[temp_word] = cnt\n",
    "                cnt += 1\n",
    "    word_list[i] = temp_sentence"
   ]
  },
  {
   "cell_type": "code",
   "execution_count": 7,
   "id": "0b14f280",
   "metadata": {},
   "outputs": [],
   "source": [
    "vocabulary_count = len(vocabulary)\n",
    "email_count = len(word_list)\n",
    "tf = np.zeros((vocabulary_count, email_count))\n",
    "idf = np.zeros((vocabulary_count))\n",
    "tf_idf = np.zeros((email_count, vocabulary_count))\n",
    "for i, email in enumerate (word_list):\n",
    "    for j, word in enumerate (word_list[i]):\n",
    "        tf[vocabulary[word]][i] += 1\n",
    "    for j, word in enumerate (word_list[i]):\n",
    "        tf[vocabulary[word]][i] /= len(word_list[i])\n",
    "    "
   ]
  },
  {
   "cell_type": "code",
   "execution_count": 8,
   "id": "b1ba4c4e",
   "metadata": {},
   "outputs": [],
   "source": [
    "for i in range(vocabulary_count):\n",
    "    for j in range(email_count):\n",
    "        if tf[i][j] > 0:\n",
    "            idf[i] += 1\n",
    "for i in range(vocabulary_count):\n",
    "    temp_idf = math.log((email_count) / (idf[i]))\n",
    "    idf[i] = temp_idf"
   ]
  },
  {
   "cell_type": "code",
   "execution_count": 9,
   "id": "3f1435d6",
   "metadata": {},
   "outputs": [],
   "source": [
    "for i in range(vocabulary_count):\n",
    "    for j in range(email_count):\n",
    "        tf_idf[j][i] = tf[i][j] * idf[i]"
   ]
  },
  {
   "cell_type": "markdown",
   "id": "f76767a7",
   "metadata": {},
   "source": [
    "### Split data"
   ]
  },
  {
   "cell_type": "code",
   "execution_count": 10,
   "id": "f75e6cd2",
   "metadata": {},
   "outputs": [],
   "source": [
    "tf_idf_train, tf_idf_test, is_spam_train, is_spam_test = train_test_split(tf_idf, is_spam, test_size = test_train_ratio, random_state = None)"
   ]
  },
  {
   "cell_type": "markdown",
   "id": "ee6eb76b",
   "metadata": {},
   "source": [
    "### Train your KNN model (reuse previously implemented model built from scratch) and test on your data"
   ]
  },
  {
   "cell_type": "markdown",
   "id": "22baf6b2",
   "metadata": {},
   "source": [
    "***1. Experiment with different distance measures [Euclidean distance, Manhattan distance, Hamming Distance] and compare with the Cosine Similarity distance results.***"
   ]
  },
  {
   "cell_type": "code",
   "execution_count": 11,
   "id": "68f1bb23",
   "metadata": {},
   "outputs": [],
   "source": [
    "def KNN(v1, function_involved, k_value):\n",
    "    neighbors = dict()\n",
    "    for i,vec in enumerate(tf_idf_train):\n",
    "        neighbors[i] = function_involved(v1, vec)\n",
    "    sort_by_value = dict(sorted(neighbors.items(), key=lambda item: item[1]))\n",
    "    return list(sort_by_value.keys())[:k_value]\n",
    "\n",
    "# def KNN(v1, function_involved, k_value):\n",
    "#     neighbors = np.zeros(len(tf_idf_train))\n",
    "#     for i,vec in enumerate(tf_idf_train):\n",
    "#         neighbors[i] = function_involved(v1, vec)\n",
    "\n",
    "    return np.argsort(neighbors)[:k_value]\n",
    "\n",
    "def cosine(v1, v2):\n",
    "    if (np.linalg.norm(v1)*np.linalg.norm(v2)) == 0:\n",
    "        return 0\n",
    "    else :\n",
    "        return -np.sum(v1*v2)/(np.linalg.norm(v1)*np.linalg.norm(v2))\n",
    "\n",
    "def euclidean(v1, v2) :\n",
    "    return np.sqrt(np.sum((v1-v2)*(v1-v2)))\n",
    "\n",
    "def manhattan(v1, v2) :\n",
    "    return np.sum(np.abs(v1-v2))\n",
    "\n",
    "def predict(neighbors):\n",
    "    spam_cnt = 0\n",
    "    ham_cnt = 0\n",
    "    for vec in neighbors:\n",
    "        if is_spam_train[vec] == True:\n",
    "            spam_cnt += 1\n",
    "        else:\n",
    "            ham_cnt += 1\n",
    "    if spam_cnt > ham_cnt:\n",
    "        return True\n",
    "    else:\n",
    "        return False\n",
    "\n",
    "def print_table(heading, percentage, precision,recall, f1, true_positive, false_positive, false_negative, true_negative):\n",
    "    print(f'Method Used: {heading}')\n",
    "    print(f'Percentage accuracy with euclidean similarity : {percentage}')\n",
    "    print(f'Precision : {precision}')\n",
    "    print(f'Recall : {recall}')\n",
    "    print(f'F1 Score : {f1}')\n",
    "\n",
    "    print('Confusion matrix is given below :')\n",
    "\n",
    "    print(f'\\t \\t \\t Actual positive \\t Actual negative')\n",
    "    print(f'Predicted positive \\t {true_positive} \\t \\t \\t {false_positive}')\n",
    "    print(f'Predicted negative \\t {false_negative} \\t \\t \\t {true_negative}')\n",
    "\n",
    "def get_stats(heading, true_positive, false_positive, true_negative, false_negative, length, percentage):\n",
    "    precision = true_positive/(true_positive+false_positive)\n",
    "    recall = true_positive/(true_positive+false_negative)\n",
    "    f1 = 2*((precision*recall)/(precision+recall))\n",
    "    percentage_method = (percentage/length)*100\n",
    "    print_table(heading, percentage_method, precision, recall, f1, true_positive, false_positive, false_negative, true_negative)\n",
    "\n",
    "def initiate_calc(predictionlist, heading):\n",
    "    percentage = 0\n",
    "    true_positive = 0\n",
    "    true_negative = 0\n",
    "    false_positive = 0\n",
    "    false_negative = 0\n",
    "    for i in range(len(predictionlist)) :\n",
    "        if is_spam_test[i] == True and predictionlist[i] == is_spam_test[i]:\n",
    "            true_positive += 1\n",
    "        if is_spam_test[i] == False and predictionlist[i] == is_spam_test[i]:\n",
    "            true_negative += 1\n",
    "        if predictionlist[i] == True and predictionlist[i] != is_spam_test[i]:\n",
    "            false_positive += 1\n",
    "        if predictionlist[i] == False and predictionlist[i] != is_spam_test[i]:\n",
    "            false_negative += 1\n",
    "        if predictionlist[i] == is_spam_test[i]:\n",
    "            percentage += 1\n",
    "    get_stats(heading, true_positive, false_positive, true_negative, false_negative, len(predictionlist), percentage)"
   ]
  },
  {
   "cell_type": "code",
   "execution_count": 12,
   "id": "365b55b4",
   "metadata": {},
   "outputs": [],
   "source": [
    "predictionlist_cosine = list()\n",
    "predictionlist_euclidean = list()\n",
    "predictionlist_manhattan = list()\n",
    "f1_cosine = list()\n",
    "f1_euclidean = list()\n",
    "f1_manhattan = list()"
   ]
  },
  {
   "cell_type": "markdown",
   "id": "7a4c4689",
   "metadata": {},
   "source": [
    "***Euclidean Distance***"
   ]
  },
  {
   "cell_type": "code",
   "execution_count": 13,
   "id": "74ddaa20",
   "metadata": {},
   "outputs": [
    {
     "name": "stdout",
     "output_type": "stream",
     "text": [
      "Method Used: Euclidean\n",
      "Percentage accuracy with euclidean similarity : 87.89237668161435\n",
      "Precision : 0.9230769230769231\n",
      "Recall : 0.0821917808219178\n",
      "F1 Score : 0.1509433962264151\n",
      "Confusion matrix is given below :\n",
      "\t \t \t Actual positive \t Actual negative\n",
      "Predicted positive \t 12 \t \t \t 1\n",
      "Predicted negative \t 134 \t \t \t 968\n"
     ]
    }
   ],
   "source": [
    "predictionlist_euclidean = []\n",
    "for i,vec in enumerate(tf_idf_test):\n",
    "    neighbors = list()\n",
    "    neighbors = KNN(vec, euclidean, 9)\n",
    "    predictionlist_euclidean.append(predict(neighbors))\n",
    "    heading = \"Euclidean\"\n",
    "initiate_calc(predictionlist_euclidean, heading)\n",
    "    "
   ]
  },
  {
   "cell_type": "markdown",
   "id": "0fe1e331",
   "metadata": {},
   "source": [
    "***Cosine Similarity***"
   ]
  },
  {
   "cell_type": "code",
   "execution_count": 14,
   "id": "230ddcf0",
   "metadata": {},
   "outputs": [
    {
     "name": "stdout",
     "output_type": "stream",
     "text": [
      "Method Used: Cosine\n",
      "Percentage accuracy with euclidean similarity : 95.69506726457399\n",
      "Precision : 1.0\n",
      "Recall : 0.6712328767123288\n",
      "F1 Score : 0.8032786885245902\n",
      "Confusion matrix is given below :\n",
      "\t \t \t Actual positive \t Actual negative\n",
      "Predicted positive \t 98 \t \t \t 0\n",
      "Predicted negative \t 48 \t \t \t 969\n"
     ]
    }
   ],
   "source": [
    "predictionlist_cosine = []\n",
    "for i,vec in enumerate(tf_idf_test):\n",
    "    neighbors = list()\n",
    "    neighbors = KNN(vec, cosine, 9)\n",
    "    predictionlist_cosine.append(predict(neighbors))\n",
    "    heading = \"Cosine\"\n",
    "initiate_calc(predictionlist_cosine, heading)"
   ]
  },
  {
   "cell_type": "markdown",
   "id": "b910f731",
   "metadata": {},
   "source": [
    "***Manhattan Distance***"
   ]
  },
  {
   "cell_type": "code",
   "execution_count": 15,
   "id": "d50f94ef",
   "metadata": {},
   "outputs": [
    {
     "name": "stdout",
     "output_type": "stream",
     "text": [
      "Method Used: Manhattan\n",
      "Percentage accuracy with euclidean similarity : 87.98206278026906\n",
      "Precision : 1.0\n",
      "Recall : 0.0821917808219178\n",
      "F1 Score : 0.1518987341772152\n",
      "Confusion matrix is given below :\n",
      "\t \t \t Actual positive \t Actual negative\n",
      "Predicted positive \t 12 \t \t \t 0\n",
      "Predicted negative \t 134 \t \t \t 969\n"
     ]
    }
   ],
   "source": [
    "predictionlist_manhattan = []\n",
    "for i,vec in enumerate(tf_idf_test):\n",
    "    neighbors = list()\n",
    "    neighbors = KNN(vec, manhattan, 21)\n",
    "    predictionlist_manhattan.append(predict(neighbors))\n",
    "    heading = \"Manhattan\"\n",
    "initiate_calc(predictionlist_manhattan, heading)\n",
    "    "
   ]
  },
  {
   "cell_type": "markdown",
   "id": "bcf6f3b1",
   "metadata": {},
   "source": [
    "***2. Explain which distance measure works best and why? Explore the distance measures and weigh their pro and cons in different application settings.***"
   ]
  },
  {
   "cell_type": "markdown",
   "id": "bae57a01",
   "metadata": {},
   "source": [
    "Cosine similarity should work better in theory as it involves computing the angle between two vectors to measure the distance between them rather than the other two that depend on the vectors' magnitudes."
   ]
  },
  {
   "cell_type": "markdown",
   "id": "45a99c76",
   "metadata": {},
   "source": [
    "***3. Report Mean Squared Error(MSE), Mean-Absolute-Error(MAE), R-squared (R2) score in a tabular form***"
   ]
  },
  {
   "cell_type": "markdown",
   "id": "e9668814",
   "metadata": {},
   "source": [
    "|  | Cosine similarity | Euclidean distance | Manhattan distance |\n",
    "| --- | --- | --- | --- |\n",
    "| Accuracy | 95.69506726457399 | 87.89237668161435 | 87.98206278026906 |\n",
    "| Precision | 1.0 | 0.9230769230769231 | 1.0|\n",
    "| Recall | 0.6712328767123288 | 0.0821917808219178 | 0.0821917808219178 |\n",
    "| F1 Score | 0.8032786885245902 | 0.1509433962264151 | 0.1518987341772152 |"
   ]
  },
  {
   "cell_type": "markdown",
   "id": "d4dde8d3",
   "metadata": {},
   "source": [
    "***4. Choose different K values (k=1,3,5,7,11,17,23,28) and experiment. Plot a graph showing R2 score vs k.***"
   ]
  },
  {
   "cell_type": "code",
   "execution_count": 16,
   "id": "45e0fd2f",
   "metadata": {},
   "outputs": [],
   "source": [
    "k = np.array([1, 3, 5, 7, 11, 17, 23, 28])"
   ]
  },
  {
   "cell_type": "markdown",
   "id": "384992ed",
   "metadata": {},
   "source": [
    "***Euclidean distance***"
   ]
  },
  {
   "cell_type": "code",
   "execution_count": 17,
   "id": "2e7d1361",
   "metadata": {},
   "outputs": [
    {
     "data": {
      "text/plain": [
       "[0.6964285714285715,\n",
       " 0.54,\n",
       " 0.43010752688172044,\n",
       " 0.33142857142857146,\n",
       " 0.2619047619047619,\n",
       " 0.19753086419753085,\n",
       " 0.1282051282051282,\n",
       " 0.05333333333333332]"
      ]
     },
     "execution_count": 17,
     "metadata": {},
     "output_type": "execute_result"
    }
   ],
   "source": [
    "f1_euclidean = []\n",
    "for i, temp_k in enumerate(k):\n",
    "    predictionlist_euclidean = []\n",
    "    for i,vec in enumerate(tf_idf_test):\n",
    "        neighbors = list()\n",
    "        neighbors = KNN(vec, euclidean, temp_k)\n",
    "        predictionlist_euclidean.append(predict(neighbors))\n",
    "        heading = \"Euclidean\"\n",
    "    percentage = 0\n",
    "    true_positive = 0\n",
    "    true_negative = 0\n",
    "    false_positive = 0\n",
    "    false_negative = 0\n",
    "    for i in range(len(predictionlist_euclidean)) :\n",
    "        if is_spam_test[i] == True and predictionlist_euclidean[i] == is_spam_test[i]:\n",
    "            true_positive += 1\n",
    "        if is_spam_test[i] == False and predictionlist_euclidean[i] == is_spam_test[i]:\n",
    "            true_negative += 1\n",
    "        if predictionlist_euclidean[i] == True and predictionlist_euclidean[i] != is_spam_test[i]:\n",
    "            false_positive += 1\n",
    "        if predictionlist_euclidean[i] == False and predictionlist_euclidean[i] != is_spam_test[i]:\n",
    "            false_negative += 1\n",
    "        if predictionlist_euclidean[i] == is_spam_test[i]:\n",
    "            percentage += 1\n",
    "    precision = true_positive/(true_positive+false_positive)\n",
    "    recall = true_positive/(true_positive+false_negative)\n",
    "    f1 = 2*((precision*recall)/(precision+recall))\n",
    "    f1_euclidean.append(f1)\n",
    "\n",
    "f1_euclidean"
   ]
  },
  {
   "cell_type": "code",
   "execution_count": 18,
   "id": "bdc2ec4b",
   "metadata": {},
   "outputs": [
    {
     "data": {
      "text/plain": [
       "Text(0, 0.5, 'F1 Scores')"
      ]
     },
     "execution_count": 18,
     "metadata": {},
     "output_type": "execute_result"
    },
    {
     "data": {
      "image/png": "[encoded data removed]",
      "text/plain": [
       "<Figure size 864x864 with 1 Axes>"
      ]
     },
     "metadata": {
      "needs_background": "light"
     },
     "output_type": "display_data"
    }
   ],
   "source": [
    "plt.figure(figsize=[12, 12])\n",
    "plt.plot(k, f1_euclidean)\n",
    "plt.title('F1 vs k values for Euclidean Distance')\n",
    "plt.xlabel('K values')\n",
    "plt.ylabel('F1 Scores')"
   ]
  },
  {
   "cell_type": "markdown",
   "id": "c8845146",
   "metadata": {},
   "source": [
    "***Cosine Similarity***"
   ]
  },
  {
   "cell_type": "code",
   "execution_count": 22,
   "id": "89fda8eb",
   "metadata": {},
   "outputs": [
    {
     "ename": "KeyboardInterrupt",
     "evalue": "",
     "output_type": "error",
     "traceback": [
      "\u001b[0;31m---------------------------------------------------------------------------\u001b[0m",
      "\u001b[0;31mKeyboardInterrupt\u001b[0m                         Traceback (most recent call last)",
      "Input \u001b[0;32mIn [22]\u001b[0m, in \u001b[0;36m<module>\u001b[0;34m\u001b[0m\n\u001b[1;32m      4\u001b[0m \u001b[38;5;28;01mfor\u001b[39;00m i,vec \u001b[38;5;129;01min\u001b[39;00m \u001b[38;5;28menumerate\u001b[39m(tf_idf_test):\n\u001b[1;32m      5\u001b[0m     neighbors \u001b[38;5;241m=\u001b[39m \u001b[38;5;28mlist\u001b[39m()\n\u001b[0;32m----> 6\u001b[0m     neighbors \u001b[38;5;241m=\u001b[39m \u001b[43mKNN\u001b[49m\u001b[43m(\u001b[49m\u001b[43mvec\u001b[49m\u001b[43m,\u001b[49m\u001b[43m \u001b[49m\u001b[43mcosine\u001b[49m\u001b[43m,\u001b[49m\u001b[43m \u001b[49m\u001b[43mtemp_k\u001b[49m\u001b[43m)\u001b[49m\n\u001b[1;32m      7\u001b[0m     predictionlist_cosine\u001b[38;5;241m.\u001b[39mappend(predict(neighbors))\n\u001b[1;32m      8\u001b[0m     heading \u001b[38;5;241m=\u001b[39m \u001b[38;5;124m\"\u001b[39m\u001b[38;5;124mCosine\u001b[39m\u001b[38;5;124m\"\u001b[39m\n",
      "Input \u001b[0;32mIn [11]\u001b[0m, in \u001b[0;36mKNN\u001b[0;34m(v1, function_involved, k_value)\u001b[0m\n\u001b[1;32m      2\u001b[0m neighbors \u001b[38;5;241m=\u001b[39m \u001b[38;5;28mdict\u001b[39m()\n\u001b[1;32m      3\u001b[0m \u001b[38;5;28;01mfor\u001b[39;00m i,vec \u001b[38;5;129;01min\u001b[39;00m \u001b[38;5;28menumerate\u001b[39m(tf_idf_train):\n\u001b[0;32m----> 4\u001b[0m     neighbors[i] \u001b[38;5;241m=\u001b[39m \u001b[43mfunction_involved\u001b[49m\u001b[43m(\u001b[49m\u001b[43mv1\u001b[49m\u001b[43m,\u001b[49m\u001b[43m \u001b[49m\u001b[43mvec\u001b[49m\u001b[43m)\u001b[49m\n\u001b[1;32m      5\u001b[0m sort_by_value \u001b[38;5;241m=\u001b[39m \u001b[38;5;28mdict\u001b[39m(\u001b[38;5;28msorted\u001b[39m(neighbors\u001b[38;5;241m.\u001b[39mitems(), key\u001b[38;5;241m=\u001b[39m\u001b[38;5;28;01mlambda\u001b[39;00m item: item[\u001b[38;5;241m1\u001b[39m]))\n\u001b[1;32m      6\u001b[0m \u001b[38;5;28;01mreturn\u001b[39;00m \u001b[38;5;28mlist\u001b[39m(sort_by_value\u001b[38;5;241m.\u001b[39mkeys())[:k_value]\n",
      "Input \u001b[0;32mIn [11]\u001b[0m, in \u001b[0;36mcosine\u001b[0;34m(v1, v2)\u001b[0m\n\u001b[1;32m     17\u001b[0m     \u001b[38;5;28;01mreturn\u001b[39;00m \u001b[38;5;241m0\u001b[39m\n\u001b[1;32m     18\u001b[0m \u001b[38;5;28;01melse\u001b[39;00m :\n\u001b[0;32m---> 19\u001b[0m     \u001b[38;5;28;01mreturn\u001b[39;00m \u001b[38;5;241m-\u001b[39mnp\u001b[38;5;241m.\u001b[39msum(v1\u001b[38;5;241m*\u001b[39mv2)\u001b[38;5;241m/\u001b[39m(np\u001b[38;5;241m.\u001b[39mlinalg\u001b[38;5;241m.\u001b[39mnorm(v1)\u001b[38;5;241m*\u001b[39m\u001b[43mnp\u001b[49m\u001b[38;5;241;43m.\u001b[39;49m\u001b[43mlinalg\u001b[49m\u001b[38;5;241;43m.\u001b[39;49m\u001b[43mnorm\u001b[49m\u001b[43m(\u001b[49m\u001b[43mv2\u001b[49m\u001b[43m)\u001b[49m)\n",
      "File \u001b[0;32m<__array_function__ internals>:180\u001b[0m, in \u001b[0;36mnorm\u001b[0;34m(*args, **kwargs)\u001b[0m\n",
      "File \u001b[0;32m~/.local/lib/python3.10/site-packages/numpy/linalg/linalg.py:2516\u001b[0m, in \u001b[0;36mnorm\u001b[0;34m(x, ord, axis, keepdims)\u001b[0m\n\u001b[1;32m   2514\u001b[0m     sqnorm \u001b[38;5;241m=\u001b[39m dot(x\u001b[38;5;241m.\u001b[39mreal, x\u001b[38;5;241m.\u001b[39mreal) \u001b[38;5;241m+\u001b[39m dot(x\u001b[38;5;241m.\u001b[39mimag, x\u001b[38;5;241m.\u001b[39mimag)\n\u001b[1;32m   2515\u001b[0m \u001b[38;5;28;01melse\u001b[39;00m:\n\u001b[0;32m-> 2516\u001b[0m     sqnorm \u001b[38;5;241m=\u001b[39m \u001b[43mdot\u001b[49m\u001b[43m(\u001b[49m\u001b[43mx\u001b[49m\u001b[43m,\u001b[49m\u001b[43m \u001b[49m\u001b[43mx\u001b[49m\u001b[43m)\u001b[49m\n\u001b[1;32m   2517\u001b[0m ret \u001b[38;5;241m=\u001b[39m sqrt(sqnorm)\n\u001b[1;32m   2518\u001b[0m \u001b[38;5;28;01mif\u001b[39;00m keepdims:\n",
      "File \u001b[0;32m<__array_function__ internals>:180\u001b[0m, in \u001b[0;36mdot\u001b[0;34m(*args, **kwargs)\u001b[0m\n",
      "\u001b[0;31mKeyboardInterrupt\u001b[0m: "
     ]
    }
   ],
   "source": [
    "f1_cosine = []\n",
    "for i, temp_k in enumerate(k):\n",
    "    predictionlist_cosine = []\n",
    "    for i,vec in enumerate(tf_idf_test):\n",
    "        neighbors = list()\n",
    "        neighbors = KNN(vec, cosine, temp_k)\n",
    "        predictionlist_cosine.append(predict(neighbors))\n",
    "        heading = \"Cosine\"\n",
    "    percentage = 0\n",
    "    true_positive = 0\n",
    "    true_negative = 0\n",
    "    false_positive = 0\n",
    "    false_negative = 0\n",
    "    for i in range(len(predictionlist_cosine)) :\n",
    "        if is_spam_test[i] == True and predictionlist_cosine[i] == is_spam_test[i]:\n",
    "            true_positive += 1\n",
    "        if is_spam_test[i] == False and predictionlist_cosine[i] == is_spam_test[i]:\n",
    "            true_negative += 1\n",
    "        if predictionlist_cosine[i] == True and predictionlist_cosine[i] != is_spam_test[i]:\n",
    "            false_positive += 1\n",
    "        if predictionlist_cosine[i] == False and predictionlist_cosine[i] != is_spam_test[i]:\n",
    "            false_negative += 1\n",
    "        if predictionlist_cosine[i] == is_spam_test[i]:\n",
    "            percentage += 1\n",
    "    precision = true_positive/(true_positive+false_positive)\n",
    "    recall = true_positive/(true_positive+false_negative)\n",
    "    f1 = 2*((precision*recall)/(precision+recall))\n",
    "    f1_cosine.append(f1)\n",
    "\n",
    "f1_cosine"
   ]
  },
  {
   "cell_type": "code",
   "execution_count": null,
   "id": "dc9565ef",
   "metadata": {},
   "outputs": [
    {
     "data": {
      "text/plain": [
       "Text(0, 0.5, 'F1 Scores')"
      ]
     },
     "execution_count": 20,
     "metadata": {},
     "output_type": "execute_result"
    },
    {
     "data": {
      "image/png": "[encoded data removed]",
      "text/plain": [
       "<Figure size 864x864 with 1 Axes>"
      ]
     },
     "metadata": {
      "needs_background": "light"
     },
     "output_type": "display_data"
    }
   ],
   "source": [
    "plt.figure(figsize=[12, 12])\n",
    "plt.plot(k, f1_cosine)\n",
    "plt.title('F1 vs k values for Cosine similarity')\n",
    "plt.xlabel('K values')\n",
    "plt.ylabel('F1 Scores')"
   ]
  },
  {
   "cell_type": "markdown",
   "id": "2524e8f2",
   "metadata": {},
   "source": [
    "***Manhattan Distance***"
   ]
  },
  {
   "cell_type": "code",
   "execution_count": null,
   "id": "f380254a",
   "metadata": {},
   "outputs": [
    {
     "ename": "KeyboardInterrupt",
     "evalue": "",
     "output_type": "error",
     "traceback": [
      "\u001b[0;31m---------------------------------------------------------------------------\u001b[0m",
      "\u001b[0;31mKeyboardInterrupt\u001b[0m                         Traceback (most recent call last)",
      "Input \u001b[0;32mIn [21]\u001b[0m, in \u001b[0;36m<module>\u001b[0;34m\u001b[0m\n\u001b[1;32m      4\u001b[0m \u001b[38;5;28;01mfor\u001b[39;00m i,vec \u001b[38;5;129;01min\u001b[39;00m \u001b[38;5;28menumerate\u001b[39m(tf_idf_test):\n\u001b[1;32m      5\u001b[0m     neighbors \u001b[38;5;241m=\u001b[39m \u001b[38;5;28mlist\u001b[39m()\n\u001b[0;32m----> 6\u001b[0m     neighbors \u001b[38;5;241m=\u001b[39m \u001b[43mKNN\u001b[49m\u001b[43m(\u001b[49m\u001b[43mvec\u001b[49m\u001b[43m,\u001b[49m\u001b[43m \u001b[49m\u001b[43mmanhattan\u001b[49m\u001b[43m,\u001b[49m\u001b[43m \u001b[49m\u001b[43mtemp_k\u001b[49m\u001b[43m)\u001b[49m\n\u001b[1;32m      7\u001b[0m     predictionlist_manhattan\u001b[38;5;241m.\u001b[39mappend(predict(neighbors))\n\u001b[1;32m      8\u001b[0m     heading \u001b[38;5;241m=\u001b[39m \u001b[38;5;124m\"\u001b[39m\u001b[38;5;124mmanhattan\u001b[39m\u001b[38;5;124m\"\u001b[39m\n",
      "Input \u001b[0;32mIn [11]\u001b[0m, in \u001b[0;36mKNN\u001b[0;34m(v1, function_involved, k_value)\u001b[0m\n\u001b[1;32m      2\u001b[0m neighbors \u001b[38;5;241m=\u001b[39m \u001b[38;5;28mdict\u001b[39m()\n\u001b[1;32m      3\u001b[0m \u001b[38;5;28;01mfor\u001b[39;00m i,vec \u001b[38;5;129;01min\u001b[39;00m \u001b[38;5;28menumerate\u001b[39m(tf_idf_train):\n\u001b[0;32m----> 4\u001b[0m     neighbors[i] \u001b[38;5;241m=\u001b[39m \u001b[43mfunction_involved\u001b[49m\u001b[43m(\u001b[49m\u001b[43mv1\u001b[49m\u001b[43m,\u001b[49m\u001b[43m \u001b[49m\u001b[43mvec\u001b[49m\u001b[43m)\u001b[49m\n\u001b[1;32m      5\u001b[0m sort_by_value \u001b[38;5;241m=\u001b[39m \u001b[38;5;28mdict\u001b[39m(\u001b[38;5;28msorted\u001b[39m(neighbors\u001b[38;5;241m.\u001b[39mitems(), key\u001b[38;5;241m=\u001b[39m\u001b[38;5;28;01mlambda\u001b[39;00m item: item[\u001b[38;5;241m1\u001b[39m]))\n\u001b[1;32m      6\u001b[0m \u001b[38;5;28;01mreturn\u001b[39;00m \u001b[38;5;28mlist\u001b[39m(sort_by_value\u001b[38;5;241m.\u001b[39mkeys())[:k_value]\n",
      "Input \u001b[0;32mIn [11]\u001b[0m, in \u001b[0;36mmanhattan\u001b[0;34m(v1, v2)\u001b[0m\n\u001b[1;32m     24\u001b[0m \u001b[38;5;28;01mdef\u001b[39;00m \u001b[38;5;21mmanhattan\u001b[39m(v1, v2) :\n\u001b[0;32m---> 25\u001b[0m     \u001b[38;5;28;01mreturn\u001b[39;00m np\u001b[38;5;241m.\u001b[39msum(\u001b[43mnp\u001b[49m\u001b[38;5;241;43m.\u001b[39;49m\u001b[43mabs\u001b[49m\u001b[43m(\u001b[49m\u001b[43mv1\u001b[49m\u001b[38;5;241;43m-\u001b[39;49m\u001b[43mv2\u001b[49m\u001b[43m)\u001b[49m)\n",
      "\u001b[0;31mKeyboardInterrupt\u001b[0m: "
     ]
    }
   ],
   "source": [
    "f1_manhattan = []\n",
    "for i, temp_k in enumerate(k):\n",
    "    predictionlist_manhattan = []\n",
    "    for i,vec in enumerate(tf_idf_test):\n",
    "        neighbors = list()\n",
    "        neighbors = KNN(vec, manhattan, temp_k)\n",
    "        predictionlist_manhattan.append(predict(neighbors))\n",
    "        heading = \"manhattan\"\n",
    "    percentage = 0\n",
    "    true_positive = 0\n",
    "    true_negative = 0\n",
    "    false_positive = 0\n",
    "    false_negative = 0\n",
    "    for i in range(len(predictionlist_manhattan)) :\n",
    "        if is_spam_test[i] == True and predictionlist_manhattan[i] == is_spam_test[i]:\n",
    "            true_positive += 1\n",
    "        if is_spam_test[i] == False and predictionlist_manhattan[i] == is_spam_test[i]:\n",
    "            true_negative += 1\n",
    "        if predictionlist_manhattan[i] == True and predictionlist_manhattan[i] != is_spam_test[i]:\n",
    "            false_positive += 1\n",
    "        if predictionlist_manhattan[i] == False and predictionlist_manhattan[i] != is_spam_test[i]:\n",
    "            false_negative += 1\n",
    "        if predictionlist_manhattan[i] == is_spam_test[i]:\n",
    "            percentage += 1\n",
    "    precision = true_positive/(true_positive+false_positive)\n",
    "    recall = true_positive/(true_positive+false_negative)\n",
    "    f1 = 2*((precision*recall)/(precision+recall))\n",
    "    f1_manhattan.append(f1)\n",
    "\n",
    "f1_manhattan"
   ]
  },
  {
   "cell_type": "code",
   "execution_count": null,
   "id": "688dbbb6",
   "metadata": {},
   "outputs": [],
   "source": [
    "plt.figure(figsize=[12, 12])\n",
    "plt.plot(k, f1_manhattan)\n",
    "plt.title('F1 vs k values for Manhattan Distance')\n",
    "plt.xlabel('K values')\n",
    "plt.ylabel('F1 Scores')"
   ]
  },
  {
   "cell_type": "markdown",
   "id": "15000352",
   "metadata": {},
   "source": [
    "### Train and test Sklearn's KNN classifier model on your data (use metric which gave best results on your experimentation with built-from-scratch model.)"
   ]
  },
  {
   "cell_type": "markdown",
   "id": "53473fc5",
   "metadata": {},
   "source": [
    "***Euclidean Distance***"
   ]
  },
  {
   "cell_type": "code",
   "execution_count": null,
   "id": "48aab7d3",
   "metadata": {},
   "outputs": [],
   "source": [
    "predictionlist_euclidean = []\n",
    "knn_sklearn = NearestNeighbors(n_neighbors=9, algorithm='auto',metric='euclidean')\n",
    "\n",
    "knn_sklearn.fit(tf_idf_train)\n",
    "\n",
    "useless, neighbors = knn_sklearn.kneighbors(tf_idf_test)\n",
    "\n",
    "for i,neighbors_list in enumerate(neighbors):\n",
    "    predictionlist_euclidean.append(predict(neighbors_list))\n",
    "    heading = \"Euclidean\"\n",
    "initiate_calc(predictionlist_euclidean, heading)"
   ]
  },
  {
   "cell_type": "markdown",
   "id": "da8181d0",
   "metadata": {},
   "source": [
    "***Cosine Similarity***"
   ]
  },
  {
   "cell_type": "code",
   "execution_count": null,
   "id": "01d01f62",
   "metadata": {},
   "outputs": [],
   "source": [
    "predictionlist_cosine = []\n",
    "knn_sklearn = NearestNeighbors(n_neighbors=9, algorithm='auto',metric='cosine')\n",
    "\n",
    "knn_sklearn.fit(tf_idf_train)\n",
    "\n",
    "useless, neighbors = knn_sklearn.kneighbors(tf_idf_test)\n",
    "\n",
    "for i,neighbors_list in enumerate(neighbors):\n",
    "    predictionlist_cosine.append(predict(neighbors_list))\n",
    "    heading = \"Cosine\"\n",
    "initiate_calc(predictionlist_cosine, heading)"
   ]
  },
  {
   "cell_type": "markdown",
   "id": "acb35c41",
   "metadata": {},
   "source": [
    "***Manhattan distance***"
   ]
  },
  {
   "cell_type": "code",
   "execution_count": null,
   "id": "01011acc",
   "metadata": {},
   "outputs": [],
   "source": [
    "predictionlist_manhattan = []\n",
    "knn_sklearn = NearestNeighbors(n_neighbors=9, algorithm='auto',metric='manhattan')\n",
    "\n",
    "knn_sklearn.fit(tf_idf_train)\n",
    "\n",
    "useless, neighbors = knn_sklearn.kneighbors(tf_idf_test)\n",
    "\n",
    "for i,neighbors_list in enumerate(neighbors):\n",
    "    predictionlist_manhattan.append(predict(neighbors_list))\n",
    "    heading = \"Manhattan\"\n",
    "initiate_calc(predictionlist_manhattan, heading)"
   ]
  },
  {
   "cell_type": "markdown",
   "id": "7d22aa47",
   "metadata": {},
   "source": [
    "***Compare both the models result.***"
   ]
  },
  {
   "cell_type": "code",
   "execution_count": null,
   "id": "6a7a5274",
   "metadata": {},
   "outputs": [],
   "source": []
  },
  {
   "cell_type": "markdown",
   "id": "64987575",
   "metadata": {},
   "source": [
    "***What is the time complexity of training using KNN classifier?***"
   ]
  },
  {
   "cell_type": "markdown",
   "id": "2770c106",
   "metadata": {},
   "source": [
    "Training time complexity is O(1)"
   ]
  },
  {
   "cell_type": "markdown",
   "id": "fad1f345",
   "metadata": {},
   "source": [
    "***What is the time complexity while testing? Is KNN a linear classifier or can it learn any boundary?***"
   ]
  },
  {
   "cell_type": "markdown",
   "id": "0daaa324",
   "metadata": {},
   "source": [
    "Testing has a time complexity of O(NlogN) as sorting is involved"
   ]
  }
 ],
 "metadata": {
  "kernelspec": {
   "display_name": "Python 3",
   "language": "python",
   "name": "python3"
  },
  "language_info": {
   "codemirror_mode": {
    "name": "ipython",
    "version": 3
   },
   "file_extension": ".py",
   "mimetype": "text/x-python",
   "name": "python",
   "nbconvert_exporter": "python",
   "pygments_lexer": "ipython3",
   "version": "3.10.1"
  }
 },
 "nbformat": 4,
 "nbformat_minor": 5
}
